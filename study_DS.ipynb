{
  "nbformat": 4,
  "nbformat_minor": 0,
  "metadata": {
    "colab": {
      "provenance": [],
      "toc_visible": true,
      "authorship_tag": "ABX9TyP/l2q51NY2eXA7uv7ZvZu/",
      "include_colab_link": true
    },
    "kernelspec": {
      "name": "python3",
      "display_name": "Python 3"
    },
    "language_info": {
      "name": "python"
    }
  },
  "cells": [
    {
      "cell_type": "markdown",
      "metadata": {
        "id": "view-in-github",
        "colab_type": "text"
      },
      "source": [
        "<a href=\"https://colab.research.google.com/github/farahduk/academy/blob/main/study_DS.ipynb\" target=\"_parent\"><img src=\"https://colab.research.google.com/assets/colab-badge.svg\" alt=\"Open In Colab\"/></a>"
      ]
    },
    {
      "cell_type": "markdown",
      "source": [
        "# Hash Set\n"
      ],
      "metadata": {
        "id": "485eLpQS8BPK"
      }
    },
    {
      "cell_type": "markdown",
      "source": [
        "Here, the simple_hash function calculates the sum of the Unicode values of the characters in a string and then applies modulus 10. This straightforward function converts any string into a hash value between 0 and 9."
      ],
      "metadata": {
        "id": "Tp4DZjAa9BRo"
      }
    },
    {
      "cell_type": "code",
      "source": [
        "from google.colab import drive\n",
        "drive.mount('/content/drive')"
      ],
      "metadata": {
        "id": "bxlhacJt-LYj"
      },
      "execution_count": null,
      "outputs": []
    },
    {
      "cell_type": "markdown",
      "source": [
        "# New Section"
      ],
      "metadata": {
        "id": "6k9mRIqOLH7A"
      }
    },
    {
      "cell_type": "markdown",
      "source": [
        "# New Section"
      ],
      "metadata": {
        "id": "iNTOnutkLIMZ"
      }
    },
    {
      "cell_type": "code",
      "source": [
        "def simple_hash(input_string):\n",
        "    summation = sum(ord(ch) for ch in input_string)\n",
        "    return summation % 10  # We limit our hash range from 0 to 9\n",
        "\n",
        "print(simple_hash('Hello'))  # outputs: 0\n",
        "print(simple_hash('world'))  # outputs: 2"
      ],
      "metadata": {
        "colab": {
          "base_uri": "https://localhost:8080/"
        },
        "id": "LcuEI_2M76KN",
        "outputId": "50422fe9-b848-406d-b52d-eea9488d32f7"
      },
      "execution_count": null,
      "outputs": [
        {
          "output_type": "stream",
          "name": "stdout",
          "text": [
            "0\n",
            "2\n"
          ]
        }
      ]
    },
    {
      "cell_type": "markdown",
      "source": [
        "# New Section"
      ],
      "metadata": {
        "id": "afS3Buit8WgG"
      }
    }
  ]
}